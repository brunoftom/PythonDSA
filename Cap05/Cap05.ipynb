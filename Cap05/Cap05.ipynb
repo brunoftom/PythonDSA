{
 "cells": [
  {
   "cell_type": "code",
   "execution_count": 1,
   "id": "aae7b72b",
   "metadata": {},
   "outputs": [
    {
     "name": "stdout",
     "output_type": "stream",
     "text": [
      "Sentença falsa\n"
     ]
    }
   ],
   "source": [
    "if 5 < 2:\n",
    "    print(\"Sentença verdadeira\")\n",
    "else:\n",
    "    print(\"Sentença falsa\")"
   ]
  },
  {
   "cell_type": "code",
   "execution_count": 2,
   "id": "eec46ff1",
   "metadata": {},
   "outputs": [
    {
     "name": "stdout",
     "output_type": "stream",
     "text": [
      "Hoje vai chover\n"
     ]
    }
   ],
   "source": [
    "dia = \"Terça\"\n",
    "if dia == \"Segunda\":\n",
    "    print(\"Hoje fará sol\")\n",
    "else:\n",
    "    print(\"Hoje vai chover\")"
   ]
  },
  {
   "cell_type": "code",
   "execution_count": 3,
   "id": "22a1b83e",
   "metadata": {},
   "outputs": [
    {
     "name": "stdout",
     "output_type": "stream",
     "text": [
      "Hoje vai chover\n"
     ]
    }
   ],
   "source": [
    "if dia == \"Segunda\":\n",
    "    print(\"Hoje fara sol\")\n",
    "elif dia == \"Terça\":\n",
    "    print(\"Hoje vai chover\")\n",
    "else:\n",
    "    print(\"Sem previsao para hoje\")"
   ]
  },
  {
   "cell_type": "code",
   "execution_count": 4,
   "id": "b591f818",
   "metadata": {},
   "outputs": [
    {
     "name": "stdout",
     "output_type": "stream",
     "text": [
      "Impresso pois duas condições são true\n"
     ]
    }
   ],
   "source": [
    "nro = 4\n",
    "if not(nro > 5) and (nro % 2 == 0):\n",
    "    print(\"Impresso pois duas condições são true\")\n",
    "else:\n",
    "    print(\"Impresso pois uma das condições é falsa\")"
   ]
  },
  {
   "cell_type": "code",
   "execution_count": 5,
   "id": "046e7c51",
   "metadata": {},
   "outputs": [
    {
     "name": "stdout",
     "output_type": "stream",
     "text": [
      "Aprovado!!\n"
     ]
    }
   ],
   "source": [
    "disc = 'Data Science'\n",
    "nota = 63\n",
    "\n",
    "if disc == 'Data Science' and nota >= 60:\n",
    "    print(\"Aprovado!!\")\n",
    "else:\n",
    "    print(\"Reprovado!!\")"
   ]
  },
  {
   "cell_type": "code",
   "execution_count": 6,
   "id": "e8a97a34",
   "metadata": {},
   "outputs": [
    {
     "name": "stdout",
     "output_type": "stream",
     "text": [
      "Aprovado em 'Data Science' com media 90\n"
     ]
    }
   ],
   "source": [
    "disc = 'Data Science'\n",
    "nota = 90\n",
    "sem = 2\n",
    "\n",
    "if disc == 'Data Science' and nota >=60 and sem != 1:\n",
    "    print(\"Aprovado em %r com media %r\" %(disc,nota))\n",
    "else:\n",
    "    print(\"Reprovado\")"
   ]
  },
  {
   "cell_type": "code",
   "execution_count": 7,
   "id": "72beef52",
   "metadata": {},
   "outputs": [
    {
     "name": "stdout",
     "output_type": "stream",
     "text": [
      "2\n",
      "3\n",
      "4\n"
     ]
    }
   ],
   "source": [
    "tp = (2,3,4)\n",
    "for i in tp:\n",
    "    print(i)"
   ]
  },
  {
   "cell_type": "code",
   "execution_count": 9,
   "id": "88c1ab82",
   "metadata": {},
   "outputs": [
    {
     "name": "stdout",
     "output_type": "stream",
     "text": [
      "0\n",
      "1\n",
      "2\n",
      "3\n",
      "4\n",
      "5\n"
     ]
    }
   ],
   "source": [
    "for contador in range(0,6):\n",
    "    print(contador)"
   ]
  },
  {
   "cell_type": "code",
   "execution_count": 10,
   "id": "12cafc0e",
   "metadata": {},
   "outputs": [
    {
     "name": "stdout",
     "output_type": "stream",
     "text": [
      "2\n",
      "4\n",
      "6\n",
      "8\n",
      "10\n"
     ]
    }
   ],
   "source": [
    "L = [1,2,3,4,5,6,7,8,9,10]\n",
    "for nro in L:\n",
    "    if nro % 2 == 0:\n",
    "        print(nro)"
   ]
  },
  {
   "cell_type": "code",
   "execution_count": 11,
   "id": "444329d4",
   "metadata": {},
   "outputs": [
    {
     "name": "stdout",
     "output_type": "stream",
     "text": [
      "B\n",
      "r\n",
      "u\n",
      "n\n",
      "o\n",
      " \n",
      "F\n",
      "e\n",
      "r\n",
      "r\n",
      "e\n",
      "i\n",
      "r\n",
      "a\n",
      " \n",
      "T\n",
      "o\n",
      "m\n",
      "é\n"
     ]
    }
   ],
   "source": [
    "for caracter in 'Bruno Ferreira Tomé':\n",
    "    print(caracter)"
   ]
  },
  {
   "cell_type": "code",
   "execution_count": 12,
   "id": "50bd83ae",
   "metadata": {},
   "outputs": [
    {
     "name": "stdout",
     "output_type": "stream",
     "text": [
      "\n",
      " 0\n",
      "\n",
      " 0\n",
      "\n",
      " 0\n",
      "===\n",
      "\n",
      " 1\n",
      "\n",
      " 2\n",
      "\n",
      " 3\n",
      "===\n",
      "\n",
      " 2\n",
      "\n",
      " 4\n",
      "\n",
      " 6\n",
      "===\n",
      "\n",
      " 3\n",
      "\n",
      " 6\n",
      "\n",
      " 9\n",
      "===\n",
      "\n",
      " 4\n",
      "\n",
      " 8\n",
      "\n",
      " 12\n",
      "===\n"
     ]
    }
   ],
   "source": [
    "l1 = [0,1,2,3,4]\n",
    "l2 = [1,2,3]\n",
    "\n",
    "#loop externo\n",
    "for el_l1 in l1:\n",
    "    for el_l2 in l2:\n",
    "        print('\\n', el_l1 * el_l2)\n",
    "    print('===')"
   ]
  },
  {
   "cell_type": "code",
   "execution_count": 20,
   "id": "5e439ed2",
   "metadata": {},
   "outputs": [
    {
     "name": "stdout",
     "output_type": "stream",
     "text": [
      "Nro encontrado em ambas as listas!!\n"
     ]
    }
   ],
   "source": [
    "l1 = [2,3,4,13]\n",
    "l2 = [2,3,4]\n",
    "\n",
    "for elem_l1 in l1:\n",
    "    for elem_l2 in l2:\n",
    "        if elem_l1 == 3 and elem_l2 == 3:\n",
    "            print(\"Nro encontrado em ambas as listas!!\")"
   ]
  },
  {
   "cell_type": "code",
   "execution_count": 23,
   "id": "5ba089a4",
   "metadata": {},
   "outputs": [
    {
     "name": "stdout",
     "output_type": "stream",
     "text": [
      "Soma dos nros pares das duas listas é: 248\n"
     ]
    }
   ],
   "source": [
    "l1 = [2,3,4,5,6,7,8,9,10]\n",
    "l2 = [32,89,47,76,98,12]\n",
    "soma = 0\n",
    "\n",
    "for lista in [l1,l2]:\n",
    "    for nro in lista:\n",
    "        if nro %2 == 0:\n",
    "            soma += nro #igual a temp = soma +nro\n",
    "            #soma = temp\n",
    "            \n",
    "print(\"Soma dos nros pares das duas listas é:\", soma)"
   ]
  },
  {
   "cell_type": "code",
   "execution_count": 24,
   "id": "66e9b881",
   "metadata": {},
   "outputs": [
    {
     "name": "stdout",
     "output_type": "stream",
     "text": [
      "Maior nro: 215\n"
     ]
    }
   ],
   "source": [
    "matriz = [[42,23,34], [100,215,114], [10,1,98.7, 12.3]]\n",
    "maior = 0\n",
    "\n",
    "for l in matriz:\n",
    "    for nro in l:\n",
    "        if nro > maior:\n",
    "            maior = nro\n",
    "            \n",
    "print(\"Maior nro:\", maior)"
   ]
  },
  {
   "cell_type": "code",
   "execution_count": 25,
   "id": "f31f46ad",
   "metadata": {},
   "outputs": [
    {
     "name": "stdout",
     "output_type": "stream",
     "text": [
      "0\n",
      "1\n",
      "2\n",
      "3\n",
      "4\n",
      "5\n",
      "6\n",
      "7\n",
      "8\n",
      "9\n"
     ]
    }
   ],
   "source": [
    "valor = 0 \n",
    "\n",
    "while valor < 10:\n",
    "    print(valor)\n",
    "    valor = valor + 1"
   ]
  },
  {
   "cell_type": "code",
   "execution_count": 27,
   "id": "86adde45",
   "metadata": {},
   "outputs": [
    {
     "name": "stdout",
     "output_type": "stream",
     "text": [
      "x = 0\n",
      "x ainda é menor que 5, somando 1 a x\n",
      "\n",
      "x = 1\n",
      "x ainda é menor que 5, somando 1 a x\n",
      "\n",
      "x = 2\n",
      "x ainda é menor que 5, somando 1 a x\n",
      "\n",
      "x = 3\n",
      "x ainda é menor que 5, somando 1 a x\n",
      "\n",
      "x = 4\n",
      "x ainda é menor que 5, somando 1 a x\n",
      "\n",
      "\n",
      "Loop concluido!!\n",
      "5\n"
     ]
    }
   ],
   "source": [
    "x = 0\n",
    "\n",
    "while x < 5:\n",
    "    print(\"x =\", x)\n",
    "    print(\"x ainda é menor que 5, somando 1 a x\\n\")\n",
    "    x += 1\n",
    "else:\n",
    "    print('\\nLoop concluido!!')\n",
    "    \n",
    "print(x)"
   ]
  },
  {
   "cell_type": "code",
   "execution_count": 30,
   "id": "2cdf06c3",
   "metadata": {},
   "outputs": [
    {
     "name": "stdout",
     "output_type": "stream",
     "text": [
      "0\n",
      "1\n",
      "2\n",
      "3\n",
      "4\n",
      "5\n"
     ]
    }
   ],
   "source": [
    "valor = 0 \n",
    "while valor < 10:\n",
    "    if valor == 6:\n",
    "        break\n",
    "    else:\n",
    "        pass\n",
    "    print(valor)\n",
    "    valor = valor + 1"
   ]
  },
  {
   "cell_type": "code",
   "execution_count": 34,
   "id": "3ca71940",
   "metadata": {},
   "outputs": [
    {
     "name": "stdout",
     "output_type": "stream",
     "text": [
      "[2, 3, 5, 7, 9, 11, 13, 15, 17, 19, 21, 23, 25, 27, 29]\n",
      "Wall time: 0 ns\n"
     ]
    }
   ],
   "source": [
    "primos = []\n",
    "\n",
    "for nro in range(2,31):\n",
    "    primo = True\n",
    "    i = 2\n",
    "    while i <= nro // 2:\n",
    "        if nro % i == 0:\n",
    "            primo = False\n",
    "            break\n",
    "        i += i\n",
    "        \n",
    "    if primo:\n",
    "        primos.append(nro)\n",
    "print(primos)"
   ]
  },
  {
   "cell_type": "code",
   "execution_count": 36,
   "id": "5b0c53c8",
   "metadata": {},
   "outputs": [
    {
     "name": "stdout",
     "output_type": "stream",
     "text": [
      "Abacaxi\n",
      "Banana\n",
      "Morango\n",
      "Uva\n"
     ]
    }
   ],
   "source": [
    "l = ['Abacaxi', 'Banana', 'Morango', 'Uva']\n",
    "\n",
    "tam = len(l)\n",
    "for i in range (0, tam):\n",
    "    print(l[i])"
   ]
  },
  {
   "cell_type": "code",
   "execution_count": 4,
   "id": "a8d6f179",
   "metadata": {},
   "outputs": [
    {
     "name": "stdout",
     "output_type": "stream",
     "text": [
      "Ola, Bruno\n"
     ]
    }
   ],
   "source": [
    "def func(nome):\n",
    "    print('Ola, %s' %(nome))\n",
    "\n",
    "func('Bruno')"
   ]
  },
  {
   "cell_type": "code",
   "execution_count": 12,
   "id": "66e51ea4",
   "metadata": {},
   "outputs": [],
   "source": [
    "import math\n",
    "\n",
    "def primo(nro):\n",
    "    if(nro % 2) == 0 and nro > 2:\n",
    "        return 'Nao é primo'\n",
    "    for i in range(3, int(math.sqrt(nro)) + 1, 2):\n",
    "        if(nro % i) == 0:\n",
    "            return 'Nao é primo'\n",
    "    return 'Nro primo'"
   ]
  },
  {
   "cell_type": "code",
   "execution_count": 13,
   "id": "bdcd1b2d",
   "metadata": {},
   "outputs": [
    {
     "data": {
      "text/plain": [
       "'Nro primo'"
      ]
     },
     "execution_count": 13,
     "metadata": {},
     "output_type": "execute_result"
    }
   ],
   "source": [
    "primo(2)"
   ]
  },
  {
   "cell_type": "code",
   "execution_count": 14,
   "id": "089cd7c0",
   "metadata": {},
   "outputs": [],
   "source": [
    "potencia = lambda num:num ** 2"
   ]
  },
  {
   "cell_type": "code",
   "execution_count": 15,
   "id": "7f2dfd03",
   "metadata": {},
   "outputs": [
    {
     "data": {
      "text/plain": [
       "100"
      ]
     },
     "execution_count": 15,
     "metadata": {},
     "output_type": "execute_result"
    }
   ],
   "source": [
    "potencia(10)"
   ]
  },
  {
   "cell_type": "code",
   "execution_count": null,
   "id": "09a5af8e",
   "metadata": {},
   "outputs": [],
   "source": []
  }
 ],
 "metadata": {
  "kernelspec": {
   "display_name": "Python 3 (ipykernel)",
   "language": "python",
   "name": "python3"
  },
  "language_info": {
   "codemirror_mode": {
    "name": "ipython",
    "version": 3
   },
   "file_extension": ".py",
   "mimetype": "text/x-python",
   "name": "python",
   "nbconvert_exporter": "python",
   "pygments_lexer": "ipython3",
   "version": "3.9.13"
  }
 },
 "nbformat": 4,
 "nbformat_minor": 5
}
